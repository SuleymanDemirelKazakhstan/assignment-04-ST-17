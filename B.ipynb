{
 "cells": [
  {
   "cell_type": "code",
   "execution_count": 1,
   "metadata": {},
   "outputs": [],
   "source": [
    "import pandas as pd\n",
    "import numpy as np"
   ]
  },
  {
   "cell_type": "code",
   "execution_count": 2,
   "metadata": {},
   "outputs": [],
   "source": [
    "def sigmoid(x):\n",
    "    return 1/(1+np.exp(-x))"
   ]
  },
  {
   "cell_type": "code",
   "execution_count": 3,
   "metadata": {},
   "outputs": [],
   "source": [
    "W_1 = [[0.2,0.4],[0.15,0.75],[0.3,0.01]]\n",
    "W_2 = [[0.9,0.25,0.12],[0.99,0.01,0.5]]\n",
    "x = np.array([[5,10, 1],[7,3,1],[100,5,1]])\n",
    "Y = np.array([[1,0,0],[0,1,0],[0,0,1]])"
   ]
  },
  {
   "cell_type": "code",
   "execution_count": 4,
   "metadata": {},
   "outputs": [],
   "source": [
    "N = len(Y)"
   ]
  },
  {
   "cell_type": "code",
   "execution_count": 5,
   "metadata": {},
   "outputs": [],
   "source": [
    "h_in = np.dot(x, W_1)\n",
    "h_out = sigmoid(h_in)\n",
    "o_in = np.dot(h_out,W_2)\n",
    "o_out = sigmoid(o_in)"
   ]
  },
  {
   "cell_type": "code",
   "execution_count": 6,
   "metadata": {},
   "outputs": [
    {
     "data": {
      "text/plain": [
       "array([[0.86275166, 0.56111002, 0.64864399],\n",
       "       [0.85691004, 0.55819855, 0.64664574],\n",
       "       [0.86875553, 0.56463629, 0.65021855]])"
      ]
     },
     "execution_count": 6,
     "metadata": {},
     "output_type": "execute_result"
    }
   ],
   "source": [
    "h_in\n",
    "h_out\n",
    "o_in\n",
    "o_out"
   ]
  },
  {
   "cell_type": "code",
   "execution_count": 7,
   "metadata": {},
   "outputs": [
    {
     "data": {
      "text/plain": [
       "0.5496586693699429"
      ]
     },
     "execution_count": 7,
     "metadata": {},
     "output_type": "execute_result"
    }
   ],
   "source": [
    "mse = ((o_out - Y)**2).sum()/(2*N)\n",
    "mse"
   ]
  },
  {
   "cell_type": "code",
   "execution_count": 8,
   "metadata": {},
   "outputs": [],
   "source": [
    "learning_rate = 0.2\n",
    "\n",
    "o_error = o_out-Y\n",
    "o_delta = o_error * o_out*(1-o_out)\n",
    "w2_upd = np.dot(h_out.T, o_delta)/N\n",
    "\n",
    "W_2 = W_2 - learning_rate * w2_upd\n",
    "\n",
    "h_error = np.dot(o_delta, W_2.T)\n",
    "h_delta = h_error * h_out*(1-h_out)\n",
    "w1_upd = np.dot(x.T, h_delta)/N\n",
    "\n",
    "W_1 = W_1 - learning_rate * w1_upd"
   ]
  },
  {
   "cell_type": "code",
   "execution_count": 9,
   "metadata": {},
   "outputs": [],
   "source": [
    "h_in = np.dot(x, W_1)\n",
    "h_out = sigmoid(h_in)\n",
    "o_in = np.dot(h_out,W_2)\n",
    "o_out = sigmoid(o_in)"
   ]
  },
  {
   "cell_type": "code",
   "execution_count": 10,
   "metadata": {},
   "outputs": [
    {
     "data": {
      "text/plain": [
       "array([[0.85963175, 0.5555175 , 0.64253309],\n",
       "       [0.8536533 , 0.55269414, 0.64065273],\n",
       "       [0.86595565, 0.55905344, 0.64401907]])"
      ]
     },
     "execution_count": 10,
     "metadata": {},
     "output_type": "execute_result"
    }
   ],
   "source": [
    "h_in\n",
    "h_out\n",
    "o_in\n",
    "o_out"
   ]
  },
  {
   "cell_type": "code",
   "execution_count": 11,
   "metadata": {},
   "outputs": [
    {
     "data": {
      "text/plain": [
       "0.5449227468084691"
      ]
     },
     "execution_count": 11,
     "metadata": {},
     "output_type": "execute_result"
    }
   ],
   "source": [
    "mse = ((o_out - Y)**2).sum()/(2*N)\n",
    "mse"
   ]
  }
 ],
 "metadata": {
  "kernelspec": {
   "display_name": "Python 3.10.2 64-bit",
   "language": "python",
   "name": "python3"
  },
  "language_info": {
   "codemirror_mode": {
    "name": "ipython",
    "version": 3
   },
   "file_extension": ".py",
   "mimetype": "text/x-python",
   "name": "python",
   "nbconvert_exporter": "python",
   "pygments_lexer": "ipython3",
   "version": "3.10.2"
  },
  "orig_nbformat": 4,
  "vscode": {
   "interpreter": {
    "hash": "b0e2d8bb4c11bea7c9cb963d1fd4276b559a1672dc74044211530a14ea6bfa31"
   }
  }
 },
 "nbformat": 4,
 "nbformat_minor": 2
}
