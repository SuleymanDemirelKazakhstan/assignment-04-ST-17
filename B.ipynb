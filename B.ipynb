import pandas as pd
import numpy as np

def sigmoid(x):
    return 1/(1+np.exp(-x))
    
W_1 = [[0.2,0.4],[0.15,0.75],[0.3,0.01]]
W_2 = [[0.9,0.25,0.12],[0.99,0.01,0.5]]
x = np.array([[5,10, 1],[7,3,1],[100,5,1]])
Y = np.array([[1,0,0],[0,1,0],[0,0,1]])

N = len(Y)

h_in = np.dot(x, W_1)
h_out = sigmoid(h_in)
o_in = np.dot(h_out,W_2)
o_out = sigmoid(o_in)

mse = ((o_out - Y)**2).sum()/(2*N)
mse

learning_rate = 0.2

o_error = o_out-Y
o_delta = o_error * o_out*(1-o_out)
w2_upd = np.dot(h_out.T, o_delta)/N

W_2 = W_2 - learning_rate * w2_upd

h_error = np.dot(o_delta, W_2.T)
h_delta = h_error * h_out*(1-h_out)
w1_upd = np.dot(x.T, h_delta)/N

W_1 = W_1 - learning_rate * w1_upd

h_in = np.dot(x, W_1)
h_out = sigmoid(h_in)
o_in = np.dot(h_out,W_2)
o_out = sigmoid(o_in)

mse = ((o_out - Y)**2).sum()/(2*N)
mse
